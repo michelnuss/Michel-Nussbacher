{
  "nbformat": 4,
  "nbformat_minor": 0,
  "metadata": {
    "colab": {
      "provenance": [],
      "authorship_tag": "ABX9TyPVIAGVfFaHVYkJHxjb0Kgr",
      "include_colab_link": true
    },
    "kernelspec": {
      "name": "python3",
      "display_name": "Python 3"
    },
    "language_info": {
      "name": "python"
    }
  },
  "cells": [
    {
      "cell_type": "markdown",
      "metadata": {
        "id": "view-in-github",
        "colab_type": "text"
      },
      "source": [
        "<a href=\"https://colab.research.google.com/github/michelnuss/Michel-Nussbacher/blob/main/Assignments_10_10.ipynb\" target=\"_parent\"><img src=\"https://colab.research.google.com/assets/colab-badge.svg\" alt=\"Open In Colab\"/></a>"
      ]
    },
    {
      "cell_type": "code",
      "execution_count": null,
      "metadata": {
        "colab": {
          "base_uri": "https://localhost:8080/",
          "height": 269
        },
        "id": "Mm5YZbsIzsPZ",
        "outputId": "6a984d8d-2183-42f0-d501-df99e148e0a3"
      },
      "outputs": [
        {
          "name": "stdout",
          "output_type": "stream",
          "text": [
            "Enter the cost of your dream home: 1000000\n",
            "Enter your annual salary: 120000\n",
            "Enter the percent of your salary to save, as a decimal: 0.1\n"
          ]
        },
        {
          "output_type": "error",
          "ename": "KeyboardInterrupt",
          "evalue": "",
          "traceback": [
            "\u001b[0;31m---------------------------------------------------------------------------\u001b[0m",
            "\u001b[0;31mKeyboardInterrupt\u001b[0m                         Traceback (most recent call last)",
            "\u001b[0;32m<ipython-input-9-a1c44629319f>\u001b[0m in \u001b[0;36m<cell line: 15>\u001b[0;34m()\u001b[0m\n\u001b[1;32m     13\u001b[0m \u001b[0mdown_payment\u001b[0m\u001b[0;34m=\u001b[0m\u001b[0mtotal_cost\u001b[0m\u001b[0;34m*\u001b[0m\u001b[0mportion_down_payment\u001b[0m\u001b[0;34m\u001b[0m\u001b[0;34m\u001b[0m\u001b[0m\n\u001b[1;32m     14\u001b[0m \u001b[0;34m\u001b[0m\u001b[0m\n\u001b[0;32m---> 15\u001b[0;31m \u001b[0;32mwhile\u001b[0m \u001b[0mcurrent_savings\u001b[0m \u001b[0;34m<=\u001b[0m \u001b[0mdown_payment\u001b[0m\u001b[0;34m:\u001b[0m\u001b[0;34m\u001b[0m\u001b[0;34m\u001b[0m\u001b[0m\n\u001b[0m\u001b[1;32m     16\u001b[0m   \u001b[0mcurrent_savings\u001b[0m \u001b[0;34m=\u001b[0m \u001b[0;34m(\u001b[0m\u001b[0mportion_saved\u001b[0m\u001b[0;34m*\u001b[0m\u001b[0;34m(\u001b[0m\u001b[0mannual_salary\u001b[0m\u001b[0;34m/\u001b[0m\u001b[0;36m12\u001b[0m\u001b[0;34m)\u001b[0m\u001b[0;34m)\u001b[0m\u001b[0;34m\u001b[0m\u001b[0;34m\u001b[0m\u001b[0m\n\u001b[1;32m     17\u001b[0m   \u001b[0mcurrent_savings\u001b[0m\u001b[0;34m=\u001b[0m\u001b[0mcurrent_savings\u001b[0m\u001b[0;34m+\u001b[0m\u001b[0;34m(\u001b[0m\u001b[0mcurrent_savings\u001b[0m\u001b[0;34m*\u001b[0m\u001b[0mr\u001b[0m\u001b[0;34m/\u001b[0m\u001b[0;36m12\u001b[0m\u001b[0;34m)\u001b[0m\u001b[0;34m\u001b[0m\u001b[0;34m\u001b[0m\u001b[0m\n",
            "\u001b[0;31mKeyboardInterrupt\u001b[0m: "
          ]
        }
      ],
      "source": [
        "#assignment 1\n",
        "\n",
        "total_cost=int(input(\"Enter the cost of your dream home: \"))\n",
        "annual_salary=int(input(\"Enter your annual salary: \"))\n",
        "portion_down_payment=0.25\n",
        "current_savings=0\n",
        "portion_saved=float(input(\"Enter the percent of your salary to save, as a decimal: \"))\n",
        "r=0.04\n",
        "\n",
        "\n",
        "time=0\n",
        "\n",
        "down_payment=total_cost*portion_down_payment\n",
        "\n",
        "while current_savings <= down_payment:\n",
        "  current_savings += (portion_saved*(annual_salary/12))+(current_savings*(r/12))\n",
        "  time+=1\n",
        "print(\"Number of months: \",time)\n",
        "\n"
      ]
    },
    {
      "cell_type": "code",
      "source": [
        "#assignment 2\n",
        "\n",
        "total_cost=int(input(\"Enter the cost of your dream home: \"))\n",
        "annual_salary=int(input(\"Enter your annual salary: \"))\n",
        "portion_down_payment=0.25\n",
        "current_savings=0\n",
        "portion_saved=float(input(\"Enter the percent of your salary to save, as a decimal: \"))\n",
        "r=0.04\n",
        "semi_annual_raise=float(input(\"Enter the semi-annual raise, as a decimal: \"))\n",
        "\n",
        "\n",
        "\n",
        "time=0\n",
        "\n",
        "down_payment=total_cost*portion_down_payment\n",
        "\n",
        "while current_savings <= down_payment:\n",
        "  current_savings += (portion_saved*(annual_salary/12))+(current_savings*(r/12))\n",
        "  time+=1\n",
        "  if time%6==0:\n",
        "    annual_salary+=annual_salary*semi_annual_raise\n",
        "print(\"Number of months: \",time)\n",
        "\n"
      ],
      "metadata": {
        "colab": {
          "base_uri": "https://localhost:8080/"
        },
        "id": "4jFCt7Gz7bK7",
        "outputId": "fec16f01-4eeb-4a5a-976f-cea4410216a3"
      },
      "execution_count": null,
      "outputs": [
        {
          "output_type": "stream",
          "name": "stdout",
          "text": [
            "Enter the cost of your dream home: 500000\n",
            "Enter your annual salary: 120000\n",
            "Enter the percent of your salary to save, as a decimal: 0.05\n",
            "Enter the semi-annual raise, as a decimal: 0.03\n",
            "Number of months:  142\n"
          ]
        }
      ]
    },
    {
      "cell_type": "code",
      "source": [
        "#assignment 3\n",
        "\n",
        "def range_check(a,b,c)\n",
        "  if a<=b<=c:\n",
        "    return True\n",
        "  else:\n",
        "    return False\n",
        "\n",
        "range_check(3,1,5)"
      ],
      "metadata": {
        "colab": {
          "base_uri": "https://localhost:8080/",
          "height": 108
        },
        "id": "0F3KpoKf8LXk",
        "outputId": "a1191e28-74e1-4d3d-a049-f57b47911bfb"
      },
      "execution_count": null,
      "outputs": [
        {
          "output_type": "error",
          "ename": "SyntaxError",
          "evalue": "expected ':' (<ipython-input-13-5365cdbb3764>, line 3)",
          "traceback": [
            "\u001b[0;36m  File \u001b[0;32m\"<ipython-input-13-5365cdbb3764>\"\u001b[0;36m, line \u001b[0;32m3\u001b[0m\n\u001b[0;31m    def range_check(a,b,c)\u001b[0m\n\u001b[0m                          ^\u001b[0m\n\u001b[0;31mSyntaxError\u001b[0m\u001b[0;31m:\u001b[0m expected ':'\n"
          ]
        }
      ]
    }
  ]
}