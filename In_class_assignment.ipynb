{
  "nbformat": 4,
  "nbformat_minor": 0,
  "metadata": {
    "colab": {
      "provenance": [],
      "authorship_tag": "ABX9TyMCp0J5MqFIqueQLCMgUhNB",
      "include_colab_link": true
    },
    "kernelspec": {
      "name": "python3",
      "display_name": "Python 3"
    },
    "language_info": {
      "name": "python"
    }
  },
  "cells": [
    {
      "cell_type": "markdown",
      "metadata": {
        "id": "view-in-github",
        "colab_type": "text"
      },
      "source": [
        "<a href=\"https://colab.research.google.com/github/michelnuss/Michel-Nussbacher/blob/main/In_class_assignment.ipynb\" target=\"_parent\"><img src=\"https://colab.research.google.com/assets/colab-badge.svg\" alt=\"Open In Colab\"/></a>"
      ]
    },
    {
      "cell_type": "code",
      "source": [
        "r=3\n",
        "h=10\n",
        "pi=3.14\n",
        "area=2*pi*r**2 + 2*pi*r*h\n",
        "print(area)\n"
      ],
      "metadata": {
        "colab": {
          "base_uri": "https://localhost:8080/"
        },
        "id": "fGvZAytQy9W2",
        "outputId": "54a4877e-0e41-4858-9ba1-6a78879d6f68"
      },
      "execution_count": null,
      "outputs": [
        {
          "output_type": "stream",
          "name": "stdout",
          "text": [
            "244.92000000000002\n"
          ]
        }
      ]
    },
    {
      "cell_type": "code",
      "source": [
        "r=5\n",
        "pi=3.14\n",
        "\n",
        "area=pi*(r**2)\n",
        "print('Area is', area, 'sqr fr.', sep=' ',end='---') # decide how the line ends\n",
        "\n",
        "#default separator is sep=\" \"\n",
        "#defauot end is \\n (special caracter (new line)- transfer the control of the display to the next line)\n",
        "\n",
        "print('program ends.')\n"
      ],
      "metadata": {
        "colab": {
          "base_uri": "https://localhost:8080/"
        },
        "id": "Dgey5fsjCEuu",
        "outputId": "3fdf4522-9d56-4d96-f92d-89c98fba70a7"
      },
      "execution_count": null,
      "outputs": [
        {
          "output_type": "stream",
          "name": "stdout",
          "text": [
            "Area is 78.5 sqr fr.---program ends.\n"
          ]
        }
      ]
    },
    {
      "cell_type": "code",
      "source": [
        "\"Area is\" + \" \" + str(area) + ' ' + 'sq ft.' + '\\n'"
      ],
      "metadata": {
        "colab": {
          "base_uri": "https://localhost:8080/",
          "height": 35
        },
        "id": "8wecEIBEFw8H",
        "outputId": "482d2d01-0d07-431a-e478-3c6a041972c2"
      },
      "execution_count": null,
      "outputs": [
        {
          "output_type": "execute_result",
          "data": {
            "text/plain": [
              "'Area is 78.5 sq ft.\\n'"
            ],
            "application/vnd.google.colaboratory.intrinsic+json": {
              "type": "string"
            }
          },
          "metadata": {},
          "execution_count": 16
        }
      ]
    },
    {
      "cell_type": "code",
      "source": [
        "#function input\n",
        "\n",
        "pi=3.14\n",
        "r= input('Give a value for radius (in fr.):') #assign the value to the variable before\n",
        "\n",
        "r=int(r)\n",
        "\n",
        "type(r)\n",
        "\n",
        "print(r)\n",
        "\n",
        "#by default, function input returns a string\n"
      ],
      "metadata": {
        "colab": {
          "base_uri": "https://localhost:8080/"
        },
        "id": "5RvLOYQwMx6I",
        "outputId": "79d755a4-bc6c-4cb4-c0fd-e54cf45830a6"
      },
      "execution_count": null,
      "outputs": [
        {
          "output_type": "stream",
          "name": "stdout",
          "text": [
            "Give a value for radius (in fr.):4\n",
            "4\n"
          ]
        }
      ]
    },
    {
      "cell_type": "code",
      "source": [
        "r=5\n",
        "pi=3.14\n",
        "\n",
        "area=pi*(r**2)\n",
        "\n",
        "print('area is', area, 'sq ft.')\n",
        "print('area is %.1f sq ft.' % area)\n",
        "print('area is {area} sq fr')\n",
        "print('area is {} sq ft.'.format(area)) #will get the value from the variable 'area' and put on '{}'.\n",
        "\n",
        "#all the same outputs\n",
        "\n"
      ],
      "metadata": {
        "colab": {
          "base_uri": "https://localhost:8080/"
        },
        "id": "H6C24BubGSPx",
        "outputId": "a8666801-4cf1-40dd-9469-f8ea9c0d154d"
      },
      "execution_count": null,
      "outputs": [
        {
          "output_type": "stream",
          "name": "stdout",
          "text": [
            "area is 78.5 sq ft.\n",
            "area is 78.5 sq ft.\n",
            "area is {area} sq fr\n",
            "area is 78.5 sq ft.\n"
          ]
        }
      ]
    },
    {
      "cell_type": "code",
      "source": [
        "pi-3.14\n",
        "r-5\n",
        "c=10\n",
        "h=8\n",
        "shape=str(input('shape:'))\n",
        "\n",
        "if shape == 'square':\n",
        "  area=c**2\n",
        "  print(area)\n",
        "\n",
        "elif shape =='circle':\n",
        "  area=pi*r**2\n",
        "  print(area)\n",
        "\n",
        "elif shape == \"cylinder\":\n",
        "  area=2*pi*r*h+2*pi*4**2\n",
        "  print(area)\n",
        "\n",
        "else:\n",
        "  print(f\"this program does not support this shape:{shape}.\")\n",
        "\n",
        "print('programing ends')"
      ],
      "metadata": {
        "colab": {
          "base_uri": "https://localhost:8080/"
        },
        "id": "LdRCF2tDx5ay",
        "outputId": "10eb7ca4-dbf2-497a-eb3b-28d61a5d6e52"
      },
      "execution_count": null,
      "outputs": [
        {
          "output_type": "stream",
          "name": "stdout",
          "text": [
            "shape:square\n",
            "100\n",
            "programing ends\n"
          ]
        }
      ]
    },
    {
      "cell_type": "code",
      "source": [
        "inv=float(input('initial investment:'))\n",
        "exi=str(input('existing costumer? answer yes or no'))\n",
        "\n",
        "ret=0\n",
        "\n",
        "if inv<=1000 and exi=='yes':\n",
        "  ret=inv*(1+0.0325)\n",
        "\n",
        "elif inv <=10000 and exi=='yes':\n",
        "  ret=inv*(1+0.035)\n",
        "\n",
        "else:\n",
        "  ret=inv*1.03\n",
        "\n",
        "print(ret)\n",
        "\n",
        "#compound boolean expression: when having more than one condition from the line, operate using and, or and not."
      ],
      "metadata": {
        "colab": {
          "base_uri": "https://localhost:8080/"
        },
        "id": "5FKsq7LHHb4O",
        "outputId": "bd63cb56-8d46-4070-bd3e-05ef7133457e"
      },
      "execution_count": null,
      "outputs": [
        {
          "output_type": "stream",
          "name": "stdout",
          "text": [
            "initial investment:10000\n",
            "existing costumer? answer yes or noyes\n",
            "10350.0\n"
          ]
        }
      ]
    },
    {
      "cell_type": "code",
      "source": [
        "#rock paper sisors\n",
        "\n",
        "p1=str(input('player 1: rock, paper or scissors?'))\n",
        "p2=str(input('player 2: rock, paper or scissors?'))\n",
        "\n",
        "if p1==p2:\n",
        "  print('tie')\n",
        "elif (p1=='paper' and p2=='rock')or (p1=='scissors' and p2=='paper') or (p1=='rock' and p2=='scissors'):\n",
        "  print('player 1 wins')\n",
        "else:\n",
        "  print('player 2 wins')\n"
      ],
      "metadata": {
        "colab": {
          "base_uri": "https://localhost:8080/"
        },
        "id": "edSsrYZPQ62o",
        "outputId": "25909641-2022-46ab-f087-b92d9d5d8303"
      },
      "execution_count": null,
      "outputs": [
        {
          "output_type": "stream",
          "name": "stdout",
          "text": [
            "player 1: rock, paper or scissors?rock\n",
            "player 2: rock, paper or scissors?scissors\n",
            "player 1 wins\n"
          ]
        }
      ]
    },
    {
      "cell_type": "code",
      "source": [
        "#random choice:\n",
        "ramdom.choice(['r','s','p'])"
      ],
      "metadata": {
        "id": "41QnuWJR35ea"
      },
      "execution_count": null,
      "outputs": []
    },
    {
      "cell_type": "code",
      "source": [
        "#calculator\n",
        "\n",
        "n1=float(input('n1:'))\n",
        "n2=float(input('n2:'))\n",
        "symbol=str(input('symbol:'))\n",
        "\n",
        "if symbol=='+':\n",
        "  print(n1+n2)\n",
        "elif symbol=='-':\n",
        "  print(n1-n2)\n",
        "elif symbol =='*':\n",
        "  print(n1*n2)\n",
        "elif symbol =='/':\n",
        "  print(n1/n2)\n",
        "else:\n",
        "  print('invalid symbol')\n"
      ],
      "metadata": {
        "id": "fsXD0fFj-oyW"
      },
      "execution_count": null,
      "outputs": []
    }
  ]
}