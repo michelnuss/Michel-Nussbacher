{
  "nbformat": 4,
  "nbformat_minor": 0,
  "metadata": {
    "colab": {
      "provenance": [],
      "authorship_tag": "ABX9TyMKzGLVZx7TSIRN5lV1EpTS",
      "include_colab_link": true
    },
    "kernelspec": {
      "name": "python3",
      "display_name": "Python 3"
    },
    "language_info": {
      "name": "python"
    }
  },
  "cells": [
    {
      "cell_type": "markdown",
      "metadata": {
        "id": "view-in-github",
        "colab_type": "text"
      },
      "source": [
        "<a href=\"https://colab.research.google.com/github/michelnuss/Michel-Nussbacher/blob/main/In_class_assignment.ipynb\" target=\"_parent\"><img src=\"https://colab.research.google.com/assets/colab-badge.svg\" alt=\"Open In Colab\"/></a>"
      ]
    },
    {
      "cell_type": "code",
      "source": [
        "r=3\n",
        "h=10\n",
        "pi=3.14\n",
        "area=2*pi*r**2 + 2*pi*r*h\n",
        "print(area)\n"
      ],
      "metadata": {
        "colab": {
          "base_uri": "https://localhost:8080/"
        },
        "id": "fGvZAytQy9W2",
        "outputId": "54a4877e-0e41-4858-9ba1-6a78879d6f68"
      },
      "execution_count": null,
      "outputs": [
        {
          "output_type": "stream",
          "name": "stdout",
          "text": [
            "244.92000000000002\n"
          ]
        }
      ]
    },
    {
      "cell_type": "code",
      "source": [
        "r=5\n",
        "pi=3.14\n",
        "\n",
        "area=pi*(r**2)\n",
        "print('Area is', area, 'sqr fr.', sep=' ',end='---') # decide how the line ends\n",
        "\n",
        "#default separator is sep=\" \"\n",
        "#defauot end is \\n (special caracter (new line)- transfer the control of the display to the next line)\n",
        "\n",
        "print('program ends.')\n"
      ],
      "metadata": {
        "colab": {
          "base_uri": "https://localhost:8080/"
        },
        "id": "Dgey5fsjCEuu",
        "outputId": "3fdf4522-9d56-4d96-f92d-89c98fba70a7"
      },
      "execution_count": null,
      "outputs": [
        {
          "output_type": "stream",
          "name": "stdout",
          "text": [
            "Area is 78.5 sqr fr.---program ends.\n"
          ]
        }
      ]
    },
    {
      "cell_type": "code",
      "source": [
        "\"Area is\" + \" \" + str(area) + ' ' + 'sq ft.' + '\\n'"
      ],
      "metadata": {
        "colab": {
          "base_uri": "https://localhost:8080/",
          "height": 35
        },
        "id": "8wecEIBEFw8H",
        "outputId": "482d2d01-0d07-431a-e478-3c6a041972c2"
      },
      "execution_count": null,
      "outputs": [
        {
          "output_type": "execute_result",
          "data": {
            "text/plain": [
              "'Area is 78.5 sq ft.\\n'"
            ],
            "application/vnd.google.colaboratory.intrinsic+json": {
              "type": "string"
            }
          },
          "metadata": {},
          "execution_count": 16
        }
      ]
    },
    {
      "cell_type": "code",
      "source": [
        "#function input\n",
        "\n",
        "pi=3.14\n",
        "r= input('Give a value for radius (in fr.):') #assign the value to the variable before\n",
        "\n",
        "r=int(r)\n",
        "\n",
        "type(r)\n",
        "\n",
        "print(r)\n",
        "\n",
        "#by default, function input returns a string\n"
      ],
      "metadata": {
        "colab": {
          "base_uri": "https://localhost:8080/"
        },
        "id": "5RvLOYQwMx6I",
        "outputId": "79d755a4-bc6c-4cb4-c0fd-e54cf45830a6"
      },
      "execution_count": null,
      "outputs": [
        {
          "output_type": "stream",
          "name": "stdout",
          "text": [
            "Give a value for radius (in fr.):4\n",
            "4\n"
          ]
        }
      ]
    },
    {
      "cell_type": "code",
      "source": [
        "r=5\n",
        "pi=3.14\n",
        "\n",
        "area=pi*(r**2)\n",
        "\n",
        "print('area is', area, 'sq ft.')\n",
        "print('area is %.1f sq ft.' % area)\n",
        "print('area is {area} sq fr')\n",
        "print('area is {} sq ft.'.format(area)) #will get the value from the variable 'area' and put on '{}'.\n",
        "\n",
        "#all the same outputs\n",
        "\n"
      ],
      "metadata": {
        "colab": {
          "base_uri": "https://localhost:8080/"
        },
        "id": "H6C24BubGSPx",
        "outputId": "a8666801-4cf1-40dd-9469-f8ea9c0d154d"
      },
      "execution_count": null,
      "outputs": [
        {
          "output_type": "stream",
          "name": "stdout",
          "text": [
            "area is 78.5 sq ft.\n",
            "area is 78.5 sq ft.\n",
            "area is {area} sq fr\n",
            "area is 78.5 sq ft.\n"
          ]
        }
      ]
    },
    {
      "cell_type": "code",
      "source": [
        "pi-3.14\n",
        "r-5\n",
        "c=10\n",
        "h=8\n",
        "shape=str(input('shape:'))\n",
        "\n",
        "if shape == 'square':\n",
        "  area=c**2\n",
        "  print(area)\n",
        "\n",
        "elif shape =='circle':\n",
        "  area=pi*r**2\n",
        "  print(area)\n",
        "\n",
        "elif shape == \"cylinder\":\n",
        "  area=2*pi*r*h+2*pi*4**2\n",
        "  print(area)\n",
        "\n",
        "else:\n",
        "  print(f\"this program does not support this shape:{shape}.\")\n",
        "\n",
        "print('programing ends')"
      ],
      "metadata": {
        "colab": {
          "base_uri": "https://localhost:8080/"
        },
        "id": "LdRCF2tDx5ay",
        "outputId": "10eb7ca4-dbf2-497a-eb3b-28d61a5d6e52"
      },
      "execution_count": null,
      "outputs": [
        {
          "output_type": "stream",
          "name": "stdout",
          "text": [
            "shape:square\n",
            "100\n",
            "programing ends\n"
          ]
        }
      ]
    },
    {
      "cell_type": "code",
      "source": [
        "inv=float(input('initial investment:'))\n",
        "exi=str(input('existing costumer? answer yes or no'))\n",
        "\n",
        "ret=0\n",
        "\n",
        "if inv<=1000 and exi=='yes':\n",
        "  ret=inv*(1+0.0325)\n",
        "\n",
        "elif inv <=10000 and exi=='yes':\n",
        "  ret=inv*(1+0.035)\n",
        "\n",
        "else:\n",
        "  ret=inv*1.03\n",
        "\n",
        "print(ret)\n",
        "\n",
        "#compound boolean expression: when having more than one condition from the line, operate using and, or and not."
      ],
      "metadata": {
        "colab": {
          "base_uri": "https://localhost:8080/"
        },
        "id": "5FKsq7LHHb4O",
        "outputId": "bd63cb56-8d46-4070-bd3e-05ef7133457e"
      },
      "execution_count": null,
      "outputs": [
        {
          "output_type": "stream",
          "name": "stdout",
          "text": [
            "initial investment:10000\n",
            "existing costumer? answer yes or noyes\n",
            "10350.0\n"
          ]
        }
      ]
    },
    {
      "cell_type": "code",
      "source": [
        "#rock paper sisors\n",
        "\n",
        "p1=str(input('player 1: rock, paper or scissors?'))\n",
        "p2=str(input('player 2: rock, paper or scissors?'))\n",
        "\n",
        "if p1==p2:\n",
        "  print('tie')\n",
        "elif (p1=='paper' and p2=='rock')or (p1=='scissors' and p2=='paper') or (p1=='rock' and p2=='scissors'):\n",
        "  print('player 1 wins')\n",
        "else:\n",
        "  print('player 2 wins')\n"
      ],
      "metadata": {
        "colab": {
          "base_uri": "https://localhost:8080/"
        },
        "id": "edSsrYZPQ62o",
        "outputId": "25909641-2022-46ab-f087-b92d9d5d8303"
      },
      "execution_count": null,
      "outputs": [
        {
          "output_type": "stream",
          "name": "stdout",
          "text": [
            "player 1: rock, paper or scissors?rock\n",
            "player 2: rock, paper or scissors?scissors\n",
            "player 1 wins\n"
          ]
        }
      ]
    },
    {
      "cell_type": "code",
      "source": [
        "#random choice:\n",
        "ramdom.choice(['r','s','p'])"
      ],
      "metadata": {
        "id": "41QnuWJR35ea"
      },
      "execution_count": null,
      "outputs": []
    },
    {
      "cell_type": "code",
      "source": [
        "#calculator\n",
        "\n",
        "n1=float(input('n1:'))\n",
        "n2=float(input('n2:'))\n",
        "symbol=str(input('symbol:'))\n",
        "\n",
        "if symbol=='+':\n",
        "  print(n1+n2)\n",
        "elif symbol=='-':\n",
        "  print(n1-n2)\n",
        "elif symbol =='*':\n",
        "  print(n1*n2)\n",
        "elif symbol =='/':\n",
        "  print(n1/n2)\n",
        "  elif symbol =='**':\n",
        "  print(n1**n2)\n",
        "else:\n",
        "  print('invalid symbol')\n"
      ],
      "metadata": {
        "id": "fsXD0fFj-oyW"
      },
      "execution_count": null,
      "outputs": []
    },
    {
      "cell_type": "code",
      "source": [
        "from colabturtleplus.turtle import\n",
        "\n",
        "clearscreen()\n",
        "\n",
        "reset= True\n",
        "\n",
        "\n",
        "if reset:\n",
        "  clear()\n",
        "\n",
        "  color = ('clabk','green')\n",
        "  shape=('blank')\n",
        "  begin_fill()\n",
        "  jumpto(0,0)\n",
        "\n",
        "  for i in range(4):\n",
        "    forward(100)\n",
        "    left(90)\n",
        "\n",
        "    penup()\n",
        "    end_fill()"
      ],
      "metadata": {
        "colab": {
          "base_uri": "https://localhost:8080/",
          "height": 108
        },
        "id": "zV5JVhdYLfp6",
        "outputId": "a43ee454-4505-41dc-e833-cdb19290226d"
      },
      "execution_count": null,
      "outputs": [
        {
          "output_type": "error",
          "ename": "SyntaxError",
          "evalue": "invalid syntax (<ipython-input-11-a8eb933289d6>, line 1)",
          "traceback": [
            "\u001b[0;36m  File \u001b[0;32m\"<ipython-input-11-a8eb933289d6>\"\u001b[0;36m, line \u001b[0;32m1\u001b[0m\n\u001b[0;31m    from colabturtleplus.turtle import\u001b[0m\n\u001b[0m                                      ^\u001b[0m\n\u001b[0;31mSyntaxError\u001b[0m\u001b[0;31m:\u001b[0m invalid syntax\n"
          ]
        }
      ]
    },
    {
      "cell_type": "code",
      "source": [
        "for i in range (0,11,1):\n",
        "  print(i, end=' ')\n",
        "\n"
      ],
      "metadata": {
        "colab": {
          "base_uri": "https://localhost:8080/"
        },
        "id": "CGctVqPAPG6c",
        "outputId": "7efcf148-d24a-46b9-b616-64ddc72f4aec"
      },
      "execution_count": null,
      "outputs": [
        {
          "output_type": "stream",
          "name": "stdout",
          "text": [
            "0 1 2 3 4 5 6 7 8 9 10 "
          ]
        }
      ]
    },
    {
      "cell_type": "code",
      "source": [
        "l = []\n",
        "i = 0\n",
        "while i < 4:  # Mudança aqui: 'i < 4' ao invés de 'i > 4'\n",
        "  l.append(i)\n",
        "  i = i + 1\n",
        "print(l)\n"
      ],
      "metadata": {
        "colab": {
          "base_uri": "https://localhost:8080/"
        },
        "id": "sj0dvgWRTJVN",
        "outputId": "88ec3624-e9db-4599-954c-a872907d0db5"
      },
      "execution_count": null,
      "outputs": [
        {
          "output_type": "stream",
          "name": "stdout",
          "text": [
            "[0, 1, 2, 3]\n"
          ]
        }
      ]
    },
    {
      "cell_type": "code",
      "source": [],
      "metadata": {
        "id": "Gnh9kCJRAg5C"
      },
      "execution_count": null,
      "outputs": []
    },
    {
      "cell_type": "code",
      "source": [
        "option=str(input('do you wanna play'))\n",
        "if option == 'no':\n",
        "    print('program ends')\n",
        "\n",
        "while option == 'yes':\n",
        "  p1=str(input('player 1: rock, paper or scissors?'))\n",
        "  p2=str(input('player 2: rock, paper or scissors?'))\n",
        "\n",
        "  if p1==p2:\n",
        "    print('tie')\n",
        "  elif (p1=='paper' and p2=='rock')or (p1=='scissors' and p2=='paper') or (p1=='rock' and p2=='scissors'):\n",
        "    print('player 1 wins')\n",
        "  else:\n",
        "    print('player 2 wins')\n",
        "\n",
        "  option=str(input('do you wanna play again?'))\n",
        "  if option == 'no':\n",
        "    print('program ends')"
      ],
      "metadata": {
        "colab": {
          "base_uri": "https://localhost:8080/"
        },
        "id": "VVk6yCZt_-G6",
        "outputId": "7bbdb3a9-b225-4cac-cded-b5edf444e319"
      },
      "execution_count": null,
      "outputs": [
        {
          "output_type": "stream",
          "name": "stdout",
          "text": [
            "do you wanna playyes\n",
            "player 1: rock, paper or scissors?rock\n",
            "player 2: rock, paper or scissors?paper\n",
            "player 2 wins\n",
            "do you wanna play again?no\n",
            "program ends\n"
          ]
        }
      ]
    },
    {
      "cell_type": "code",
      "source": [
        "import random as rnd\n",
        "\n",
        "option=str(input('do you wanna play'))\n",
        "if option == 'no':\n",
        "    print('program ends')\n",
        "\n",
        "while option == 'yes':\n",
        "  p1=str(input('player 1: rock, paper or scissors?'))\n",
        "  p2=rnd.choice(['rock','paper','scissors'])\n",
        "  print('player 2 choose', p2)\n",
        "  if p1==p2:\n",
        "    print('tie')\n",
        "  elif (p1=='paper' and p2=='rock')or (p1=='scissors' and p2=='paper') or (p1=='rock' and p2=='scissors'):\n",
        "    print('player 1 wins')\n",
        "  else:\n",
        "    print('player 2 wins')\n",
        "\n",
        "  option=str(input('do you wanna play again?'))\n",
        "  if option == 'no':\n",
        "    print('program ends')"
      ],
      "metadata": {
        "colab": {
          "base_uri": "https://localhost:8080/",
          "height": 400
        },
        "id": "PsF2ivvSCByt",
        "outputId": "344ed8ae-cdfb-4dad-abb4-abf178aca91e"
      },
      "execution_count": null,
      "outputs": [
        {
          "metadata": {
            "tags": null
          },
          "name": "stdout",
          "output_type": "stream",
          "text": [
            "player 2 choose paper\n",
            "player 2 wins\n"
          ]
        },
        {
          "output_type": "error",
          "ename": "KeyboardInterrupt",
          "evalue": "Interrupted by user",
          "traceback": [
            "\u001b[0;31m---------------------------------------------------------------------------\u001b[0m",
            "\u001b[0;31mKeyboardInterrupt\u001b[0m                         Traceback (most recent call last)",
            "\u001b[0;32m<ipython-input-13-93deb126c8ea>\u001b[0m in \u001b[0;36m<cell line: 7>\u001b[0;34m()\u001b[0m\n\u001b[1;32m     16\u001b[0m     \u001b[0mprint\u001b[0m\u001b[0;34m(\u001b[0m\u001b[0;34m'player 2 wins'\u001b[0m\u001b[0;34m)\u001b[0m\u001b[0;34m\u001b[0m\u001b[0;34m\u001b[0m\u001b[0m\n\u001b[1;32m     17\u001b[0m \u001b[0;34m\u001b[0m\u001b[0m\n\u001b[0;32m---> 18\u001b[0;31m   \u001b[0moption\u001b[0m\u001b[0;34m=\u001b[0m\u001b[0mstr\u001b[0m\u001b[0;34m(\u001b[0m\u001b[0minput\u001b[0m\u001b[0;34m(\u001b[0m\u001b[0;34m'do you wanna play again?'\u001b[0m\u001b[0;34m)\u001b[0m\u001b[0;34m)\u001b[0m\u001b[0;34m\u001b[0m\u001b[0;34m\u001b[0m\u001b[0m\n\u001b[0m\u001b[1;32m     19\u001b[0m   \u001b[0;32mif\u001b[0m \u001b[0moption\u001b[0m \u001b[0;34m==\u001b[0m \u001b[0;34m'no'\u001b[0m\u001b[0;34m:\u001b[0m\u001b[0;34m\u001b[0m\u001b[0;34m\u001b[0m\u001b[0m\n\u001b[1;32m     20\u001b[0m     \u001b[0mprint\u001b[0m\u001b[0;34m(\u001b[0m\u001b[0;34m'program ends'\u001b[0m\u001b[0;34m)\u001b[0m\u001b[0;34m\u001b[0m\u001b[0;34m\u001b[0m\u001b[0m\n",
            "\u001b[0;32m/usr/local/lib/python3.10/dist-packages/ipykernel/kernelbase.py\u001b[0m in \u001b[0;36mraw_input\u001b[0;34m(self, prompt)\u001b[0m\n\u001b[1;32m    849\u001b[0m                 \u001b[0;34m\"raw_input was called, but this frontend does not support input requests.\"\u001b[0m\u001b[0;34m\u001b[0m\u001b[0;34m\u001b[0m\u001b[0m\n\u001b[1;32m    850\u001b[0m             )\n\u001b[0;32m--> 851\u001b[0;31m         return self._input_request(str(prompt),\n\u001b[0m\u001b[1;32m    852\u001b[0m             \u001b[0mself\u001b[0m\u001b[0;34m.\u001b[0m\u001b[0m_parent_ident\u001b[0m\u001b[0;34m,\u001b[0m\u001b[0;34m\u001b[0m\u001b[0;34m\u001b[0m\u001b[0m\n\u001b[1;32m    853\u001b[0m             \u001b[0mself\u001b[0m\u001b[0;34m.\u001b[0m\u001b[0m_parent_header\u001b[0m\u001b[0;34m,\u001b[0m\u001b[0;34m\u001b[0m\u001b[0;34m\u001b[0m\u001b[0m\n",
            "\u001b[0;32m/usr/local/lib/python3.10/dist-packages/ipykernel/kernelbase.py\u001b[0m in \u001b[0;36m_input_request\u001b[0;34m(self, prompt, ident, parent, password)\u001b[0m\n\u001b[1;32m    893\u001b[0m             \u001b[0;32mexcept\u001b[0m \u001b[0mKeyboardInterrupt\u001b[0m\u001b[0;34m:\u001b[0m\u001b[0;34m\u001b[0m\u001b[0;34m\u001b[0m\u001b[0m\n\u001b[1;32m    894\u001b[0m                 \u001b[0;31m# re-raise KeyboardInterrupt, to truncate traceback\u001b[0m\u001b[0;34m\u001b[0m\u001b[0;34m\u001b[0m\u001b[0m\n\u001b[0;32m--> 895\u001b[0;31m                 \u001b[0;32mraise\u001b[0m \u001b[0mKeyboardInterrupt\u001b[0m\u001b[0;34m(\u001b[0m\u001b[0;34m\"Interrupted by user\"\u001b[0m\u001b[0;34m)\u001b[0m \u001b[0;32mfrom\u001b[0m \u001b[0;32mNone\u001b[0m\u001b[0;34m\u001b[0m\u001b[0;34m\u001b[0m\u001b[0m\n\u001b[0m\u001b[1;32m    896\u001b[0m             \u001b[0;32mexcept\u001b[0m \u001b[0mException\u001b[0m \u001b[0;32mas\u001b[0m \u001b[0me\u001b[0m\u001b[0;34m:\u001b[0m\u001b[0;34m\u001b[0m\u001b[0;34m\u001b[0m\u001b[0m\n\u001b[1;32m    897\u001b[0m                 \u001b[0mself\u001b[0m\u001b[0;34m.\u001b[0m\u001b[0mlog\u001b[0m\u001b[0;34m.\u001b[0m\u001b[0mwarning\u001b[0m\u001b[0;34m(\u001b[0m\u001b[0;34m\"Invalid Message:\"\u001b[0m\u001b[0;34m,\u001b[0m \u001b[0mexc_info\u001b[0m\u001b[0;34m=\u001b[0m\u001b[0;32mTrue\u001b[0m\u001b[0;34m)\u001b[0m\u001b[0;34m\u001b[0m\u001b[0;34m\u001b[0m\u001b[0m\n",
            "\u001b[0;31mKeyboardInterrupt\u001b[0m: Interrupted by user"
          ]
        }
      ]
    },
    {
      "cell_type": "code",
      "source": [
        "fee=5\n",
        "pphr=2.5\n",
        "time=int(input('how many hours did you parked?'))\n",
        "\n",
        "if time<2:\n",
        "  print('10 dol')\n",
        "elif time<=6:\n",
        "  cost=fee+time*pphr\n",
        "  print(cost)\n",
        "else:\n",
        "  print('20 dol')"
      ],
      "metadata": {
        "id": "JQJLGejqDiPb",
        "colab": {
          "base_uri": "https://localhost:8080/"
        },
        "outputId": "5b68b5f5-7675-4853-a79b-3333bfd70dab"
      },
      "execution_count": null,
      "outputs": [
        {
          "output_type": "stream",
          "name": "stdout",
          "text": [
            "how many hours did you parked?7\n",
            "20 dol\n"
          ]
        }
      ]
    },
    {
      "cell_type": "code",
      "source": [
        "flat=5\n",
        "for t in range(1,9):\n",
        "  charge=flat+t*2.5\n",
        "  if charge<10:\n",
        "    charge=10\n",
        "  elif charge > 20:\n",
        "    charge=20\n",
        "  else:\n",
        "    charge=charge\n",
        "\n",
        "  print(t,charge)"
      ],
      "metadata": {
        "id": "DMzUwnHGFRth",
        "colab": {
          "base_uri": "https://localhost:8080/"
        },
        "outputId": "aa0183d7-0875-49d6-a50c-fc2d6bf76aae"
      },
      "execution_count": null,
      "outputs": [
        {
          "output_type": "stream",
          "name": "stdout",
          "text": [
            "1 10\n",
            "2 10.0\n",
            "3 12.5\n",
            "4 15.0\n",
            "5 17.5\n",
            "6 20.0\n",
            "7 20\n",
            "8 20\n"
          ]
        }
      ]
    },
    {
      "cell_type": "code",
      "source": [
        "import math\n",
        "adat=0\n",
        "\n",
        "print ('ad', 'profit')\n",
        "\n",
        "for ad in range (0,200+25,25):\n",
        "  adat=2*math.sqrt(ad)\n",
        "  profit=((20+adat)*10)-(200+ad) #profit equals tickets sold (20 standard + aditional atendees\n",
        "  profit=round(profit)\n",
        "  print(ad,profit)\n"
      ],
      "metadata": {
        "colab": {
          "base_uri": "https://localhost:8080/"
        },
        "id": "dK-eftI5K-NF",
        "outputId": "9d688ac3-7520-4660-8060-6581507997e6"
      },
      "execution_count": null,
      "outputs": [
        {
          "output_type": "stream",
          "name": "stdout",
          "text": [
            "ad profit\n",
            "0 0\n",
            "25 75\n",
            "50 91\n",
            "75 98\n",
            "100 100\n",
            "125 99\n",
            "150 95\n",
            "175 90\n",
            "200 83\n"
          ]
        }
      ]
    },
    {
      "cell_type": "code",
      "source": [
        "ticketprice=10\n",
        "fixedcost=200\n",
        "stdat=20\n",
        "\n",
        "while ad<201:\n",
        "  profit=10*(stdat+2*round(ad**0.5))-fixedcost-ad\n",
        "  d=ad+25\n",
        "  print(ad,profit)\n",
        "\n"
      ],
      "metadata": {
        "id": "vGolZuflR6Ho"
      },
      "execution_count": null,
      "outputs": []
    },
    {
      "cell_type": "code",
      "source": [
        "j=10\n",
        "for i in range (1_000_000_000):\n",
        "  if i==j:\n",
        "    break\n",
        "  print(i, end=' ')\n",
        "print('done.')"
      ],
      "metadata": {
        "id": "ngbzmyrgVRSw",
        "colab": {
          "base_uri": "https://localhost:8080/"
        },
        "outputId": "2ca6dfb8-5a9f-4def-ec3b-93caf412d9c2"
      },
      "execution_count": null,
      "outputs": [
        {
          "output_type": "stream",
          "name": "stdout",
          "text": [
            "0 1 2 3 4 5 6 7 8 9 done.\n"
          ]
        }
      ]
    },
    {
      "cell_type": "code",
      "source": [
        "i=10\n",
        "while i>=0:\n",
        "  print(i)\n",
        "  if i==5:\n",
        "    break\n",
        "  i=i-1\n",
        "print(i)"
      ],
      "metadata": {
        "colab": {
          "base_uri": "https://localhost:8080/"
        },
        "id": "JMr6kKuqVxgV",
        "outputId": "f8f10153-f794-4f79-ec05-9997f72aae17"
      },
      "execution_count": null,
      "outputs": [
        {
          "output_type": "stream",
          "name": "stdout",
          "text": [
            "10\n",
            "9\n",
            "8\n",
            "7\n",
            "6\n",
            "5\n",
            "5\n"
          ]
        }
      ]
    },
    {
      "cell_type": "code",
      "source": [
        "s='abcde' # -> 0,1,2,3,4 and -1,-2,-3,-4,-5\n",
        "s[2:] #do 2 ate o fim\n",
        "s[1:-1]\n",
        "\n",
        "\n",
        "\n"
      ],
      "metadata": {
        "colab": {
          "base_uri": "https://localhost:8080/",
          "height": 35
        },
        "id": "JWCBqaJGB0V1",
        "outputId": "9c029789-3cda-4f54-9ace-57b1a51e2899"
      },
      "execution_count": null,
      "outputs": [
        {
          "output_type": "execute_result",
          "data": {
            "text/plain": [
              "'bcd'"
            ],
            "application/vnd.google.colaboratory.intrinsic+json": {
              "type": "string"
            }
          },
          "metadata": {},
          "execution_count": 12
        }
      ]
    },
    {
      "cell_type": "code",
      "source": [
        "t='123456'\n",
        "t[1:5]==t[1:-1]==t[1:len(t)-1]"
      ],
      "metadata": {
        "colab": {
          "base_uri": "https://localhost:8080/"
        },
        "id": "z53cIG2BDcYx",
        "outputId": "12500719-2d5d-4891-8aed-088d7578a7aa"
      },
      "execution_count": null,
      "outputs": [
        {
          "output_type": "execute_result",
          "data": {
            "text/plain": [
              "True"
            ]
          },
          "metadata": {},
          "execution_count": 14
        }
      ]
    },
    {
      "cell_type": "code",
      "source": [
        "for i in range (0,len(st)): #range s diferente de len. range only take integers\n",
        "  print(st[i])\n",
        "  if st[i]=='a':\n",
        "    break\n"
      ],
      "metadata": {
        "colab": {
          "base_uri": "https://localhost:8080/"
        },
        "id": "RR861ryhE7ZZ",
        "outputId": "933d2c49-5296-4982-b007-25ae95456048"
      },
      "execution_count": null,
      "outputs": [
        {
          "output_type": "stream",
          "name": "stdout",
          "text": [
            "t\n",
            "h\n",
            "i\n",
            "s\n",
            " \n",
            "i\n",
            "s\n",
            " \n",
            "a\n",
            " \n",
            "s\n",
            "t\n",
            "r\n",
            "i\n",
            "n\n",
            "g\n"
          ]
        }
      ]
    },
    {
      "cell_type": "code",
      "source": [
        "for ind in s:\n",
        "  if ind=='a':\n",
        "    print('Found')\n",
        "  break"
      ],
      "metadata": {
        "colab": {
          "base_uri": "https://localhost:8080/"
        },
        "id": "yD36_Ab0GUOv",
        "outputId": "75493d54-b00b-45cf-bebb-3690cdbaccd7"
      },
      "execution_count": null,
      "outputs": [
        {
          "output_type": "stream",
          "name": "stdout",
          "text": [
            "Found\n"
          ]
        }
      ]
    },
    {
      "cell_type": "code",
      "source": [
        "l=[1,2,3]\n",
        "l.append([4,5])\n",
        "print(l)"
      ],
      "metadata": {
        "colab": {
          "base_uri": "https://localhost:8080/"
        },
        "id": "Qg4DK-dzS6nx",
        "outputId": "7b034118-1a5b-4557-9c41-a4a74dc5387d"
      },
      "execution_count": null,
      "outputs": [
        {
          "output_type": "stream",
          "name": "stdout",
          "text": [
            "[1, 2, 3, [4, 5]]\n"
          ]
        }
      ]
    },
    {
      "cell_type": "code",
      "source": [
        "l[1]=0 #replaces the number at the place []\n",
        "print(l)"
      ],
      "metadata": {
        "colab": {
          "base_uri": "https://localhost:8080/"
        },
        "id": "BwCJf6GrTNCG",
        "outputId": "cfc94c57-5eb2-4f9f-a682-0b95dc6fb219"
      },
      "execution_count": null,
      "outputs": [
        {
          "output_type": "stream",
          "name": "stdout",
          "text": [
            "[1, 0, 3, [4, 5]]\n"
          ]
        }
      ]
    },
    {
      "cell_type": "code",
      "source": [
        "l=[1,2,3,4,5]\n",
        "l.insert(1,5)\n",
        "print(l)\n",
        "#insert a number in the position of the first comma, and moves everything to the right"
      ],
      "metadata": {
        "colab": {
          "base_uri": "https://localhost:8080/"
        },
        "id": "c7nKmFWITV6g",
        "outputId": "90b36373-bdd6-4430-f27c-099ab2d19a9e"
      },
      "execution_count": null,
      "outputs": [
        {
          "output_type": "stream",
          "name": "stdout",
          "text": [
            "[1, 5, 2, 3, 4, 5]\n"
          ]
        }
      ]
    },
    {
      "cell_type": "code",
      "source": [
        "#l.pop(indx)\n",
        "l.pop(-1) #remove the last item of the list (by default -1)\n",
        "print(l)"
      ],
      "metadata": {
        "colab": {
          "base_uri": "https://localhost:8080/"
        },
        "id": "WcElv2ATTjeG",
        "outputId": "cd298ae3-efae-451d-81f3-4fed5af09689"
      },
      "execution_count": null,
      "outputs": [
        {
          "output_type": "stream",
          "name": "stdout",
          "text": [
            "[1, 5, 2, 3, 4]\n"
          ]
        }
      ]
    },
    {
      "cell_type": "code",
      "source": [
        "l=[1,7,3,0,2,8,4]\n",
        "l.sort(reverse=True) #organiza em ordem crescente ou decrescente (reverse=True)\n",
        "print(l)"
      ],
      "metadata": {
        "colab": {
          "base_uri": "https://localhost:8080/"
        },
        "id": "GOTm6RQeUgFi",
        "outputId": "a3e3cbea-c027-437d-dbc1-b7771083de86"
      },
      "execution_count": null,
      "outputs": [
        {
          "output_type": "stream",
          "name": "stdout",
          "text": [
            "[8, 7, 4, 3, 2, 1, 0]\n"
          ]
        }
      ]
    },
    {
      "cell_type": "code",
      "source": [
        "l=[]\n",
        "num=int(input('your number:'))\n",
        "while num!=0:\n",
        "  l.append(num)\n",
        "  num=int(input('your number:'))\n",
        "print(l)\n",
        "\n"
      ],
      "metadata": {
        "colab": {
          "base_uri": "https://localhost:8080/"
        },
        "id": "sE_NFnmXWHif",
        "outputId": "6dd12a66-c0f6-4234-8d1f-0d9d8511aaf5"
      },
      "execution_count": null,
      "outputs": [
        {
          "output_type": "stream",
          "name": "stdout",
          "text": [
            "your number:1\n",
            "your number:2\n",
            "your number:3\n",
            "your number:4\n",
            "your number:5\n",
            "your number:6\n",
            "your number:09\n",
            "your number:0\n",
            "[1, 2, 3, 4, 5, 6, 9]\n"
          ]
        }
      ]
    },
    {
      "cell_type": "code",
      "source": [],
      "metadata": {
        "id": "LErT2Dr0H3xO"
      },
      "execution_count": null,
      "outputs": []
    },
    {
      "cell_type": "code",
      "source": [
        "while True:\n",
        "  num=int(input('your number:'))\n",
        "  if num==0:\n",
        "    break\n",
        "  l.append(num)\n",
        "print(l)"
      ],
      "metadata": {
        "id": "5ZpZEkTubicY"
      },
      "execution_count": null,
      "outputs": []
    },
    {
      "cell_type": "code",
      "source": [
        "grades={'john':95, 'jane':93,'bob':87,'anne':90}\n",
        "grades['john']"
      ],
      "metadata": {
        "colab": {
          "base_uri": "https://localhost:8080/"
        },
        "id": "bz-8H78dDgSb",
        "outputId": "2e2276c7-305e-4f01-8048-2022e4294a4c"
      },
      "execution_count": null,
      "outputs": [
        {
          "output_type": "execute_result",
          "data": {
            "text/plain": [
              "95"
            ]
          },
          "metadata": {},
          "execution_count": 2
        }
      ]
    },
    {
      "cell_type": "code",
      "source": [
        "del(grades['jane'])\n",
        "grades"
      ],
      "metadata": {
        "colab": {
          "base_uri": "https://localhost:8080/"
        },
        "id": "uEbcEWGUDwEm",
        "outputId": "b3bc929d-c79c-42e9-bb3a-ac52c07b226c"
      },
      "execution_count": null,
      "outputs": [
        {
          "output_type": "execute_result",
          "data": {
            "text/plain": [
              "{'john': 95, 'bob': 87, 'anne': 90}"
            ]
          },
          "metadata": {},
          "execution_count": 4
        }
      ]
    },
    {
      "cell_type": "code",
      "source": [
        "grades['anne']=95\n",
        "grades"
      ],
      "metadata": {
        "colab": {
          "base_uri": "https://localhost:8080/"
        },
        "id": "TFZJ7hBNEp2C",
        "outputId": "af606527-221e-4a85-eb9f-8c8759e4282f"
      },
      "execution_count": null,
      "outputs": [
        {
          "output_type": "execute_result",
          "data": {
            "text/plain": [
              "{'john': 95, 'bob': 87, 'anne': 95}"
            ]
          },
          "metadata": {},
          "execution_count": 5
        }
      ]
    },
    {
      "cell_type": "code",
      "source": [
        "months={}\n",
        "names=['jan','feb','mar','apr','may','jun','jul','aug','sep','oct','nov','dec']\n",
        "numbers=[1,2,3,4,5,6,7,8,9,10,11,12]\n",
        "\n",
        "for i in range(len(names)):\n",
        "  months[i+1]=names[i]\n",
        "print(months)"
      ],
      "metadata": {
        "colab": {
          "base_uri": "https://localhost:8080/"
        },
        "id": "MEj2QQJmH5HV",
        "outputId": "0d19732f-c174-4c1a-f213-cb4bf01940fa"
      },
      "execution_count": null,
      "outputs": [
        {
          "output_type": "stream",
          "name": "stdout",
          "text": [
            "{1: 'jan', 2: 'feb', 3: 'mar', 4: 'apr', 5: 'may', 6: 'jun', 7: 'jul', 8: 'aug', 9: 'sep', 10: 'oct', 11: 'nov', 12: 'dec'}\n"
          ]
        }
      ]
    },
    {
      "cell_type": "code",
      "source": [
        "print(int(3.5))\n"
      ],
      "metadata": {
        "id": "Ee9KbMSkItT2",
        "colab": {
          "base_uri": "https://localhost:8080/"
        },
        "outputId": "e62b15e7-77ab-480a-86d0-be2ed75c613f"
      },
      "execution_count": null,
      "outputs": [
        {
          "output_type": "stream",
          "name": "stdout",
          "text": [
            "3\n"
          ]
        }
      ]
    },
    {
      "cell_type": "code",
      "source": [
        "def adder(a,b):\n",
        "  res=a+b\n",
        "  return res\n",
        "\n"
      ],
      "metadata": {
        "id": "L2gp7bTQdveL",
        "colab": {
          "base_uri": "https://localhost:8080/"
        },
        "outputId": "e4cd3857-4a8a-4fdd-c65d-63d21887b07a"
      },
      "execution_count": null,
      "outputs": [
        {
          "output_type": "stream",
          "name": "stdout",
          "text": [
            "3\n"
          ]
        }
      ]
    },
    {
      "cell_type": "code",
      "source": [
        "x=1\n",
        "y=2\n",
        "\n",
        "adder(a=x,b=y)"
      ],
      "metadata": {
        "colab": {
          "base_uri": "https://localhost:8080/"
        },
        "id": "btsFH3_Oeb1M",
        "outputId": "9721be96-e732-42b3-ea4f-00aac2ab3061"
      },
      "execution_count": null,
      "outputs": [
        {
          "output_type": "execute_result",
          "data": {
            "text/plain": [
              "3"
            ]
          },
          "metadata": {},
          "execution_count": 6
        }
      ]
    },
    {
      "cell_type": "code",
      "source": [
        "def range_check(num,rn):\n",
        "  if num in rn:\n",
        "    return True\n",
        "  else:\n",
        "    return False\n",
        "\n",
        "print(range_check(2, range(1,4))) #give a list\n"
      ],
      "metadata": {
        "colab": {
          "base_uri": "https://localhost:8080/"
        },
        "id": "neUKW4y3iWym",
        "outputId": "6ebaf982-e043-4651-c032-a40623d98d55"
      },
      "execution_count": null,
      "outputs": [
        {
          "output_type": "stream",
          "name": "stdout",
          "text": [
            "True\n"
          ]
        }
      ]
    },
    {
      "cell_type": "code",
      "source": [
        "\n",
        "def inputs():\n",
        "  salary=float(input('salary:'))\n",
        "  portion=float(input('portion to be saved:'))\n",
        "  total_cost=float(input('total cost:'))\n",
        "\n",
        "  return salary, portion, total_cost"
      ],
      "metadata": {
        "id": "7w7jEYPKi_mj"
      },
      "execution_count": null,
      "outputs": []
    },
    {
      "cell_type": "code",
      "source": [
        "salary,portion,total_cost=inputs()\n",
        "\n",
        "months=0\n",
        "amount=0"
      ],
      "metadata": {
        "id": "X5Dh6SsblaPX"
      },
      "execution_count": null,
      "outputs": []
    },
    {
      "cell_type": "code",
      "source": [
        "def f(x):\n",
        "  y=1\n",
        "  x=x+y\n",
        "  print('x=',x)\n",
        "  return x\n",
        "\n",
        "x=3\n",
        "y=2\n",
        "z=f(x)\n",
        "print('z=',z)\n",
        "print('x=',x)\n",
        "print('y=',y)"
      ],
      "metadata": {
        "colab": {
          "base_uri": "https://localhost:8080/"
        },
        "id": "k_YcqJmWdFHg",
        "outputId": "7fe4263a-e4a8-40c9-8b19-6225f8770954"
      },
      "execution_count": null,
      "outputs": [
        {
          "output_type": "stream",
          "name": "stdout",
          "text": [
            "x= 4\n",
            "z= 4\n",
            "x= 3\n",
            "y= 2\n"
          ]
        }
      ]
    },
    {
      "cell_type": "code",
      "source": [
        "#scooping allows to reuse names in different layers without conflicting values"
      ],
      "metadata": {
        "id": "dQdGW11leL1s"
      },
      "execution_count": null,
      "outputs": []
    },
    {
      "cell_type": "code",
      "source": [
        "def g():\n",
        "  print(x)\n",
        "  x=1\n",
        "\n",
        "x=3\n",
        "g()\n",
        "#error\n"
      ],
      "metadata": {
        "colab": {
          "base_uri": "https://localhost:8080/"
        },
        "id": "IA0FqnquihIR",
        "outputId": "76443ca5-46ad-4cae-875c-a27c5f0fceb5"
      },
      "execution_count": null,
      "outputs": [
        {
          "output_type": "stream",
          "name": "stdout",
          "text": [
            "1\n"
          ]
        }
      ]
    },
    {
      "cell_type": "code",
      "source": [
        "#factorial\n",
        "def factorial(n):\n",
        "  if n==1:\n",
        "    return 1\n",
        "  else:\n",
        "    return n*factorial(n-1)\n",
        "print(factorial(5))\n",
        ""
      ],
      "metadata": {
        "id": "pQcaW6OnnfHo",
        "colab": {
          "base_uri": "https://localhost:8080/"
        },
        "outputId": "95f15638-fb6f-4945-b918-39557c5b918d"
      },
      "execution_count": 18,
      "outputs": [
        {
          "output_type": "stream",
          "name": "stdout",
          "text": [
            "120\n"
          ]
        }
      ]
    },
    {
      "cell_type": "code",
      "source": [
        "def fib(n):\n",
        "  if n==1 or n==0:\n",
        "    return 1\n",
        "  else:\n",
        "    return fib(n-1)+fib(n-2) #fibonatti calcula o numero atual somando o numero passado com o numero retrasado\n",
        "print(fib(5))"
      ],
      "metadata": {
        "colab": {
          "base_uri": "https://localhost:8080/"
        },
        "id": "0F6-JQNjSYXA",
        "outputId": "1d7d669c-4fac-4205-b710-01e05643be30"
      },
      "execution_count": 20,
      "outputs": [
        {
          "output_type": "stream",
          "name": "stdout",
          "text": [
            "8\n"
          ]
        }
      ]
    },
    {
      "cell_type": "code",
      "source": [
        "def rev(s):\n",
        "  if len(s)==1:\n",
        "    return s\n",
        "  else:\n",
        "    return rev(s[1:])+s[0]\n",
        "print(rev('abcde'))\n",
        "\n"
      ],
      "metadata": {
        "colab": {
          "base_uri": "https://localhost:8080/"
        },
        "id": "XgwdIYE5VMwW",
        "outputId": "af3773d0-721e-4500-f214-7afc54617df5"
      },
      "execution_count": 27,
      "outputs": [
        {
          "output_type": "stream",
          "name": "stdout",
          "text": [
            "edcba\n"
          ]
        }
      ]
    },
    {
      "cell_type": "code",
      "source": [
        "def rev(s):\n",
        "  if len(s)==1:\n",
        "    return s\n",
        "  else:\n",
        "    return s[-1]+rev(s[:-1])\n",
        "rev('Haloween')"
      ],
      "metadata": {
        "colab": {
          "base_uri": "https://localhost:8080/",
          "height": 35
        },
        "id": "GEBWPo0qVgrn",
        "outputId": "df0d47b2-d51e-4ceb-f79a-bd06cbc6168b"
      },
      "execution_count": 30,
      "outputs": [
        {
          "output_type": "execute_result",
          "data": {
            "text/plain": [
              "'neewolaH'"
            ],
            "application/vnd.google.colaboratory.intrinsic+json": {
              "type": "string"
            }
          },
          "metadata": {},
          "execution_count": 30
        }
      ]
    }
  ]
}